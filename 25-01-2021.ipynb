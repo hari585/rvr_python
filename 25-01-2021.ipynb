{
 "cells": [
  {
   "cell_type": "code",
   "execution_count": 3,
   "metadata": {},
   "outputs": [
    {
     "name": "stdout",
     "output_type": "stream",
     "text": [
      "hello world\n"
     ]
    }
   ],
   "source": [
    "print('hello world')"
   ]
  },
  {
   "cell_type": "code",
   "execution_count": 4,
   "metadata": {},
   "outputs": [
    {
     "data": {
      "text/plain": [
       "range(1, 10)"
      ]
     },
     "execution_count": 4,
     "metadata": {},
     "output_type": "execute_result"
    }
   ],
   "source": [
    "range(1,10)"
   ]
  },
  {
   "cell_type": "code",
   "execution_count": 5,
   "metadata": {},
   "outputs": [],
   "source": [
    "### syntax for forloop:\n",
    "# for var in range(start,end,diff):\n",
    "      # statements\n",
    "    "
   ]
  },
  {
   "cell_type": "code",
   "execution_count": 12,
   "metadata": {},
   "outputs": [
    {
     "name": "stdout",
     "output_type": "stream",
     "text": [
      "hello world\n",
      "hello world\n",
      "hello world\n",
      "hello world\n",
      "hello world\n",
      "hello world\n",
      "hello world\n",
      "hello world\n",
      "hello world\n",
      "hello world\n"
     ]
    }
   ],
   "source": [
    "a=\"hello world\"\n",
    "for i in range(1,11):\n",
    "    print(a)"
   ]
  },
  {
   "cell_type": "code",
   "execution_count": 18,
   "metadata": {},
   "outputs": [
    {
     "name": "stdout",
     "output_type": "stream",
     "text": [
      "1 3 5 7 9 11 13 15 17 19 21 23 25 27 29 31 33 35 37 39 41 43 45 47 49 51 53 55 57 59 61 63 65 67 69 71 73 75 77 79 81 83 85 87 89 91 93 95 97 99 "
     ]
    }
   ],
   "source": [
    "for i in range(1,100+1,2):\n",
    "    print(i,end = \" \")"
   ]
  },
  {
   "cell_type": "code",
   "execution_count": 19,
   "metadata": {},
   "outputs": [
    {
     "name": "stdout",
     "output_type": "stream",
     "text": [
      "2 4 6 8 10 12 14 16 18 20 22 24 26 28 30 32 34 36 38 40 42 44 46 48 50 52 54 56 58 60 62 64 66 68 70 72 74 76 78 80 82 84 86 88 90 92 94 96 98 "
     ]
    }
   ],
   "source": [
    "for i in range(1,100):\n",
    "    if i%2==0:\n",
    "        print(i,end =\" \")"
   ]
  },
  {
   "cell_type": "code",
   "execution_count": 20,
   "metadata": {},
   "outputs": [
    {
     "name": "stdout",
     "output_type": "stream",
     "text": [
      "1 3 5 7 9 11 13 15 17 19 21 23 25 27 29 31 33 35 37 39 41 43 45 47 49 51 53 55 57 59 61 63 65 67 69 71 73 75 77 79 81 83 85 87 89 91 93 95 97 99 "
     ]
    }
   ],
   "source": [
    "for i in range(1,100):\n",
    "    if i%2!=0:\n",
    "        print(i,end = ' ')"
   ]
  },
  {
   "cell_type": "code",
   "execution_count": 1,
   "metadata": {},
   "outputs": [
    {
     "name": "stdout",
     "output_type": "stream",
     "text": [
      "enter a value8\n",
      "even\n"
     ]
    }
   ],
   "source": [
    "a=int(input(\"enter a value\"))  \n",
    "if a%2==0:\n",
    "    print(\"even\")\n",
    "else:\n",
    "    print(\"odd\")\n",
    "        \n",
    "     \n"
   ]
  },
  {
   "cell_type": "code",
   "execution_count": 3,
   "metadata": {},
   "outputs": [
    {
     "name": "stdout",
     "output_type": "stream",
     "text": [
      "enter table number27\n",
      "enter table length20\n",
      "27*1=27\n",
      "27*2=54\n",
      "27*3=81\n",
      "27*4=108\n",
      "27*5=135\n",
      "27*6=162\n",
      "27*7=189\n",
      "27*8=216\n",
      "27*9=243\n",
      "27*10=270\n",
      "27*11=297\n",
      "27*12=324\n",
      "27*13=351\n",
      "27*14=378\n",
      "27*15=405\n",
      "27*16=432\n",
      "27*17=459\n",
      "27*18=486\n",
      "27*19=513\n",
      "27*20=540\n"
     ]
    }
   ],
   "source": [
    "t=int(input(\"enter table number\"))\n",
    "t_len=int(input(\"enter table length\"))\n",
    "for i in range(1,t_len+1):\n",
    "    print('{}*{}={}'.format(t,i,t*i))\n"
   ]
  },
  {
   "cell_type": "code",
   "execution_count": 4,
   "metadata": {},
   "outputs": [
    {
     "name": "stdout",
     "output_type": "stream",
     "text": [
      "enter a number5\n",
      "1 5 factor count is : 2\n"
     ]
    }
   ],
   "source": [
    "#finding the factor of a given number\n",
    "n=int(input(\"enter a number\"))\n",
    "cnt=0\n",
    "for i in range (1,n+1):\n",
    "    if n%i==0:\n",
    "        cnt+=1\n",
    "        print(i,end=' ')\n",
    "print('factor count is :',cnt)        "
   ]
  },
  {
   "cell_type": "code",
   "execution_count": 7,
   "metadata": {},
   "outputs": [
    {
     "name": "stdout",
     "output_type": "stream",
     "text": [
      "enter a number5\n",
      "1 5 factor count is: 2\n",
      "prime number\n"
     ]
    }
   ],
   "source": [
    "# to check the prime number or not\n",
    "n=int(input(\"enter a number\"))\n",
    "cnt=0\n",
    "for i in range(1,n+1):\n",
    "    if n%i==0:\n",
    "        cnt+=1\n",
    "        print(i,end=' ')\n",
    "print('factor count is:',cnt)\n",
    "if cnt ==2:\n",
    "    print('prime number')\n",
    "else:\n",
    "    print('not a prime number')"
   ]
  },
  {
   "cell_type": "code",
   "execution_count": 9,
   "metadata": {},
   "outputs": [
    {
     "name": "stdout",
     "output_type": "stream",
     "text": [
      "1 2 3 4 5 6 7 8 9 10 "
     ]
    }
   ],
   "source": [
    "#while condition:\n",
    "  #statements\n",
    "i=1\n",
    "while i<11:\n",
    "    print(i,end=' ')\n",
    "    i+=1"
   ]
  },
  {
   "cell_type": "code",
   "execution_count": null,
   "metadata": {},
   "outputs": [],
   "source": []
  }
 ],
 "metadata": {
  "kernelspec": {
   "display_name": "Python 3",
   "language": "python",
   "name": "python3"
  },
  "language_info": {
   "codemirror_mode": {
    "name": "ipython",
    "version": 3
   },
   "file_extension": ".py",
   "mimetype": "text/x-python",
   "name": "python",
   "nbconvert_exporter": "python",
   "pygments_lexer": "ipython3",
   "version": "3.7.4"
  }
 },
 "nbformat": 4,
 "nbformat_minor": 2
}
